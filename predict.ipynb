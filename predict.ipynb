{
 "cells": [
  {
   "cell_type": "markdown",
   "metadata": {},
   "source": [
    "## keras-CNN-室內室外二分類-預測"
   ]
  },
  {
   "cell_type": "markdown",
   "metadata": {},
   "source": [
    "# 引入套件"
   ]
  },
  {
   "cell_type": "code",
   "execution_count": null,
   "metadata": {},
   "outputs": [],
   "source": [
    "import numpy as np\n",
    "import matplotlib.pyplot as plt\n",
    "from keras.preprocessing.image import ImageDataGenerator, image\n",
    "from keras import layers\n",
    "from keras import models\n",
    "from keras.layers import Dropout\n",
    "from keras import optimizers\n",
    "from keras.models import load_model\n",
    "from PIL import ImageFile\n",
    "ImageFile.LOAD_TRUNCATED_IMAGES = True"
   ]
  },
  {
   "cell_type": "markdown",
   "metadata": {},
   "source": [
    "# 定義路徑"
   ]
  },
  {
   "cell_type": "code",
   "execution_count": null,
   "metadata": {},
   "outputs": [],
   "source": [
    "train_dir = './data/train/'\n",
    "validation_dir = './data/validation/'\n",
    "model_file_name = './model/indoor_outdoor_model.h5'"
   ]
  },
  {
   "cell_type": "markdown",
   "metadata": {},
   "source": [
    "# 定義預測函式"
   ]
  },
  {
   "cell_type": "code",
   "execution_count": null,
   "metadata": {},
   "outputs": [],
   "source": [
    "def predict():\n",
    "    model = load_model(model_file_name)\n",
    "    print(model.summary())\n",
    " \n",
    "    img_path = './data/test/indoor/5108056016In.jpg'\n",
    "    img = image.load_img(img_path, target_size=(150, 150))\n",
    "    img_tensor = image.img_to_array(img)\n",
    "    img_tensor = img_tensor / 255\n",
    "    img_tensor = np.expand_dims(img_tensor, axis=0)\n",
    "    # 其形状为 (1, 150, 150, 3)\n",
    "    plt.imshow(img_tensor[0])\n",
    "    plt.show()\n",
    " \n",
    "    result = model.predict(img_tensor)\n",
    "    print(result)"
   ]
  },
  {
   "cell_type": "markdown",
   "metadata": {},
   "source": [
    "# 定義預測結果和圖像顯現"
   ]
  },
  {
   "cell_type": "code",
   "execution_count": null,
   "metadata": {},
   "outputs": [],
   "source": [
    "# 画出count个预测结果和图像\n",
    "def fig_predict_result(model, count):\n",
    "    test_datagen = ImageDataGenerator(rescale=1. / 255)\n",
    "    test_generator = test_datagen.flow_from_directory(\n",
    "        './data/test/',\n",
    "        target_size=(150, 150),\n",
    "        batch_size=256,\n",
    "        class_mode='binary')\n",
    " \n",
    "    text_labels = []\n",
    "    plt.figure(figsize=(30, 20))\n",
    "    # 迭代器可以迭代很多条数据，但我这里只取第一个结果看看\n",
    "    for batch, label in test_generator:\n",
    "        pred = model.predict(batch)\n",
    "        for i in range(count):\n",
    "            true_reuslt = label[i]\n",
    "            print(true_reuslt)\n",
    "            if pred[i] > 0.5:\n",
    "                text_labels.append('indoor')\n",
    "            else:\n",
    "                text_labels.append('outdoor')\n",
    " \n",
    "            # 4列，若干行的图\n",
    "            plt.subplot(count / 4 + 1, 4, i + 1)\n",
    "            plt.title('This is a ' + text_labels[i])\n",
    "            imgplot = plt.imshow(batch[i])\n",
    " \n",
    "        plt.show()\n",
    " \n",
    "        # 可以接着画很多，但是只是随机看看几条结果。所以这里停下来。\n",
    "        break"
   ]
  },
  {
   "cell_type": "markdown",
   "metadata": {},
   "source": [
    "# 開始預測"
   ]
  },
  {
   "cell_type": "code",
   "execution_count": null,
   "metadata": {},
   "outputs": [],
   "source": [
    "# 利用训练好的模型预测结果。\n",
    "predict()\n",
    "\n",
    "model = load_model(model_file_name)\n",
    "#随机查看10个预测结果并画出它们\n",
    "fig_predict_result(model, 5)"
   ]
  }
 ],
 "metadata": {
  "kernelspec": {
   "display_name": "Python 3",
   "language": "python",
   "name": "python3"
  },
  "language_info": {
   "codemirror_mode": {
    "name": "ipython",
    "version": 3
   },
   "file_extension": ".py",
   "mimetype": "text/x-python",
   "name": "python",
   "nbconvert_exporter": "python",
   "pygments_lexer": "ipython3",
   "version": "3.7.3"
  }
 },
 "nbformat": 4,
 "nbformat_minor": 2
}
